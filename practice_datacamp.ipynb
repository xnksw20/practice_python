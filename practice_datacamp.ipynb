{
 "cells": [
  {
   "cell_type": "code",
   "execution_count": 9,
   "id": "63d0faa5",
   "metadata": {},
   "outputs": [],
   "source": [
    "import pandas as pd\n",
    "import numpy as np"
   ]
  },
  {
   "cell_type": "code",
   "execution_count": 3,
   "id": "8c7688cb",
   "metadata": {},
   "outputs": [
    {
     "data": {
      "text/html": [
       "<div>\n",
       "<style scoped>\n",
       "    .dataframe tbody tr th:only-of-type {\n",
       "        vertical-align: middle;\n",
       "    }\n",
       "\n",
       "    .dataframe tbody tr th {\n",
       "        vertical-align: top;\n",
       "    }\n",
       "\n",
       "    .dataframe thead th {\n",
       "        text-align: right;\n",
       "    }\n",
       "</style>\n",
       "<table border=\"1\" class=\"dataframe\">\n",
       "  <thead>\n",
       "    <tr style=\"text-align: right;\">\n",
       "      <th></th>\n",
       "      <th>Test</th>\n",
       "    </tr>\n",
       "  </thead>\n",
       "  <tbody>\n",
       "    <tr>\n",
       "      <th>0</th>\n",
       "      <td>1</td>\n",
       "    </tr>\n",
       "    <tr>\n",
       "      <th>1</th>\n",
       "      <td>2</td>\n",
       "    </tr>\n",
       "    <tr>\n",
       "      <th>2</th>\n",
       "      <td>3</td>\n",
       "    </tr>\n",
       "    <tr>\n",
       "      <th>3</th>\n",
       "      <td>4</td>\n",
       "    </tr>\n",
       "  </tbody>\n",
       "</table>\n",
       "</div>"
      ],
      "text/plain": [
       "   Test\n",
       "0     1\n",
       "1     2\n",
       "2     3\n",
       "3     4"
      ]
     },
     "execution_count": 3,
     "metadata": {},
     "output_type": "execute_result"
    }
   ],
   "source": [
    "pd.DataFrame({'Test':[1,2,3,4]})"
   ]
  },
  {
   "cell_type": "code",
   "execution_count": 5,
   "id": "2bf46c4e",
   "metadata": {},
   "outputs": [
    {
     "name": "stdout",
     "output_type": "stream",
     "text": [
      "Collecting line_profiler\n",
      "  Downloading line_profiler-3.3.1-cp38-cp38-win_amd64.whl (52 kB)\n",
      "Requirement already satisfied: IPython>=0.13 in c:\\users\\admin\\anaconda3\\lib\\site-packages (from line_profiler) (7.22.0)\n",
      "Requirement already satisfied: pickleshare in c:\\users\\admin\\anaconda3\\lib\\site-packages (from IPython>=0.13->line_profiler) (0.7.5)\n",
      "Requirement already satisfied: setuptools>=18.5 in c:\\users\\admin\\anaconda3\\lib\\site-packages (from IPython>=0.13->line_profiler) (52.0.0.post20210125)\n",
      "Requirement already satisfied: pygments in c:\\users\\admin\\anaconda3\\lib\\site-packages (from IPython>=0.13->line_profiler) (2.8.1)\n",
      "Requirement already satisfied: colorama in c:\\users\\admin\\anaconda3\\lib\\site-packages (from IPython>=0.13->line_profiler) (0.4.4)\n",
      "Requirement already satisfied: prompt-toolkit!=3.0.0,!=3.0.1,<3.1.0,>=2.0.0 in c:\\users\\admin\\anaconda3\\lib\\site-packages (from IPython>=0.13->line_profiler) (3.0.17)\n",
      "Requirement already satisfied: backcall in c:\\users\\admin\\anaconda3\\lib\\site-packages (from IPython>=0.13->line_profiler) (0.2.0)\n",
      "Requirement already satisfied: jedi>=0.16 in c:\\users\\admin\\anaconda3\\lib\\site-packages (from IPython>=0.13->line_profiler) (0.17.2)\n",
      "Requirement already satisfied: decorator in c:\\users\\admin\\anaconda3\\lib\\site-packages (from IPython>=0.13->line_profiler) (5.0.6)\n",
      "Requirement already satisfied: traitlets>=4.2 in c:\\users\\admin\\anaconda3\\lib\\site-packages (from IPython>=0.13->line_profiler) (5.0.5)\n",
      "Requirement already satisfied: parso<0.8.0,>=0.7.0 in c:\\users\\admin\\anaconda3\\lib\\site-packages (from jedi>=0.16->IPython>=0.13->line_profiler) (0.7.0)\n",
      "Requirement already satisfied: wcwidth in c:\\users\\admin\\anaconda3\\lib\\site-packages (from prompt-toolkit!=3.0.0,!=3.0.1,<3.1.0,>=2.0.0->IPython>=0.13->line_profiler) (0.2.5)\n",
      "Requirement already satisfied: ipython-genutils in c:\\users\\admin\\anaconda3\\lib\\site-packages (from traitlets>=4.2->IPython>=0.13->line_profiler) (0.2.0)\n",
      "Installing collected packages: line-profiler\n",
      "Successfully installed line-profiler-3.3.1\n",
      "Note: you may need to restart the kernel to use updated packages.\n"
     ]
    }
   ],
   "source": [
    "pip install line_profiler"
   ]
  },
  {
   "cell_type": "code",
   "execution_count": 6,
   "id": "7c0ea316",
   "metadata": {},
   "outputs": [],
   "source": [
    "%load_ext line_profiler"
   ]
  },
  {
   "cell_type": "code",
   "execution_count": 10,
   "id": "461ec143",
   "metadata": {},
   "outputs": [],
   "source": [
    "heroes = ['Superman','Batman','Wonder Woman']\n",
    "hts = np.array([191.0,188,172])\n",
    "wts = np.array([89,90,55])"
   ]
  },
  {
   "cell_type": "code",
   "execution_count": 11,
   "id": "2c2e4e47",
   "metadata": {},
   "outputs": [],
   "source": [
    "def convert_units_broadcast(heroes, heights, weights):\n",
    "\n",
    "    # Array broadcasting instead of list comprehension\n",
    "    new_hts = heights * 0.39370\n",
    "    new_wts = weights * 2.20462\n",
    "\n",
    "    hero_data = {}\n",
    "\n",
    "    for i,hero in enumerate(heroes):\n",
    "        hero_data[hero] = (new_hts[i], new_wts[i])\n",
    "\n",
    "    return hero_data"
   ]
  },
  {
   "cell_type": "code",
   "execution_count": 14,
   "id": "afff5cc4",
   "metadata": {},
   "outputs": [],
   "source": [
    "# Test lprun for capture time\n",
    "%lprun -f convert_units_broadcast convert_units_broadcast(heroes, hts, wts)"
   ]
  },
  {
   "cell_type": "code",
   "execution_count": 15,
   "id": "8a7539a3",
   "metadata": {},
   "outputs": [
    {
     "name": "stdout",
     "output_type": "stream",
     "text": [
      "[('Superman', 191.0), ('Batman', 188.0), ('Wonder Woman', 172.0)]\n"
     ]
    }
   ],
   "source": [
    "# Zip method for combine\n",
    "heroes_hts = [*zip(heroes,hts)]\n",
    "print(heroes_hts)"
   ]
  },
  {
   "cell_type": "code",
   "execution_count": 17,
   "id": "e7aef0c7",
   "metadata": {},
   "outputs": [
    {
     "name": "stdout",
     "output_type": "stream",
     "text": [
      "[('Superman', 191.0), ('Batman', 188.0), ('Wonder Woman', 172.0)]\n"
     ]
    }
   ],
   "source": [
    "heroes_height = [(name,hts[i]) for i,name in enumerate(heroes)]\n",
    "print(heroes_height)"
   ]
  },
  {
   "cell_type": "code",
   "execution_count": 24,
   "id": "ed90876e",
   "metadata": {},
   "outputs": [
    {
     "name": "stdout",
     "output_type": "stream",
     "text": [
      "Counter({'Water': 4, 'Fire': 3, 'Ground': 3, 'Snow': 2})\n"
     ]
    }
   ],
   "source": [
    "from collections import Counter\n",
    "heroes_type = ['Fire','Water','Snow','Ground','Ground','Water','Fire','Water','Fire','Snow','Water','Ground']\n",
    "type_count = Counter(heroes_type)\n",
    "print(type_count)"
   ]
  },
  {
   "cell_type": "code",
   "execution_count": 22,
   "id": "1e9d275a",
   "metadata": {},
   "outputs": [
    {
     "name": "stdout",
     "output_type": "stream",
     "text": [
      "{'Fire': 3, 'Water': 4, 'Snow': 2, 'Ground': 3}\n"
     ]
    }
   ],
   "source": [
    "count_type1 = {}\n",
    "for type in heroes_type :\n",
    "    if type not in count_type1 :\n",
    "        count_type1[type] = 1\n",
    "    else:\n",
    "        count_type1[type] += 1\n",
    "print(count_type1)"
   ]
  },
  {
   "cell_type": "code",
   "execution_count": 27,
   "id": "6e25644f",
   "metadata": {},
   "outputs": [
    {
     "name": "stdout",
     "output_type": "stream",
     "text": [
      "[('Superman', 'Batman'), ('Superman', 'Wonder Woman'), ('Batman', 'Wonder Woman')]\n"
     ]
    }
   ],
   "source": [
    "from itertools import combinations\n",
    "heroes_combi = [*combinations(heroes,2)]\n",
    "print(heroes_combi)"
   ]
  },
  {
   "cell_type": "code",
   "execution_count": 28,
   "id": "24b72443",
   "metadata": {},
   "outputs": [
    {
     "name": "stdout",
     "output_type": "stream",
     "text": [
      "[('Superman', 'Batman'), ('Superman', 'Wonder Woman'), ('Batman', 'Wonder Woman')]\n"
     ]
    }
   ],
   "source": [
    "combos = []\n",
    "for x in heroes :\n",
    "    for y in heroes :\n",
    "        if x == y :\n",
    "            continue\n",
    "        if ((x,y) not in combos) & ((y,x) not in combos) :\n",
    "            combos.append((x,y))\n",
    "print(combos)"
   ]
  },
  {
   "cell_type": "code",
   "execution_count": 30,
   "id": "0543b3c1",
   "metadata": {},
   "outputs": [
    {
     "name": "stdout",
     "output_type": "stream",
     "text": [
      "['Batman', 'Wonder Woman']\n"
     ]
    }
   ],
   "source": [
    "list_A = heroes\n",
    "list_B = ['Batman','Aquaman','Wonder Woman','The Flash']\n",
    "in_common = []\n",
    "for i in list_A :\n",
    "    for j in list_B :\n",
    "        if i == j :\n",
    "            in_common.append(i)\n",
    "print(in_common)"
   ]
  },
  {
   "cell_type": "code",
   "execution_count": 31,
   "id": "9e5e88a8",
   "metadata": {},
   "outputs": [
    {
     "name": "stdout",
     "output_type": "stream",
     "text": [
      "['Batman', 'Aquaman', 'Wonder Woman', 'The Flash', 'Superman']\n"
     ]
    }
   ],
   "source": [
    "# Unique hero\n",
    "list_B = ['Batman','Aquaman','Wonder Woman','The Flash','Batman','Wonder Woman','Superman','The Flash']\n",
    "unique_hero = []\n",
    "for name in list_B :\n",
    "    if name not in unique_hero :\n",
    "        unique_hero.append(name)\n",
    "        \n",
    "print(unique_hero)\n"
   ]
  },
  {
   "cell_type": "code",
   "execution_count": 32,
   "id": "ae6e03b5",
   "metadata": {},
   "outputs": [
    {
     "name": "stdout",
     "output_type": "stream",
     "text": [
      "{'Wonder Woman', 'Batman', 'The Flash', 'Aquaman', 'Superman'}\n"
     ]
    }
   ],
   "source": [
    "set_hero = set(list_B)\n",
    "print(set_hero)"
   ]
  },
  {
   "cell_type": "code",
   "execution_count": null,
   "id": "4583d620",
   "metadata": {},
   "outputs": [],
   "source": []
  }
 ],
 "metadata": {
  "kernelspec": {
   "display_name": "Python 3",
   "language": "python",
   "name": "python3"
  },
  "language_info": {
   "codemirror_mode": {
    "name": "ipython",
    "version": 3
   },
   "file_extension": ".py",
   "mimetype": "text/x-python",
   "name": "python",
   "nbconvert_exporter": "python",
   "pygments_lexer": "ipython3",
   "version": "3.8.8"
  }
 },
 "nbformat": 4,
 "nbformat_minor": 5
}
